{
 "cells": [
  {
   "cell_type": "markdown",
   "metadata": {},
   "source": [
    "# Meraki Python SDK Demo: Offline Switch Finder\n",
    "\n",
    "*This notebook demonstrates using the Meraki Python SDK to create a list of all the switches in a network that are offline.*\n",
    "\n",
    "---\n",
    "\n",
    ">NB: Throughout this notebook, we will print values for demonstration purposes. In a production Python script, the coder would likely remove these print statements to clean up the console output."
   ]
  },
  {
   "cell_type": "markdown",
   "metadata": {},
   "source": [
    "In this first cell, we install and import the required meraki and os modules, and open the Dashboard API connection using the SDK. Make sure you have [set up your environment variables first](https://github.com/meraki/dashboard-api-python/blob/master/notebooks/README.md#setting-up-your-environment-variables)."
   ]
  },
  {
   "cell_type": "code",
   "execution_count": null,
   "metadata": {
    "tags": []
   },
   "outputs": [],
   "source": [
    "# Install the relevant modules. If you are using a local editor (e.g. VS Code, rather than Colab) you can run these commands, without the preceding %, via a terminal. NB: Run `pip install meraki==` to find the latest version of the Meraki SDK.\n",
    "%pip install meraki\n",
    "%pip install tablib\n",
    "\n",
    "# If you are using Google Colab, please ensure you have set up your environment variables as linked above, then delete the two lines of ''' to activate the following code:\n",
    "'''\n",
    "%pip install colab-env -qU\n",
    "import colab_env\n",
    "'''\n",
    "\n",
    "# Rely on meraki SDK, os, and tablib -- more on tablib later\n",
    "import meraki\n",
    "import os\n",
    "import tablib\n",
    "\n",
    "# We're also going to import Python's built-in JSON module, but only to make the console output pretty. In production, you wouldn't need any of the printing calls at all, nor this import!\n",
    "import json\n",
    "\n",
    "# Setting API key this way, and storing it in the env variables, lets us keep the sensitive API key out of the script itself\n",
    "# The meraki.DashboardAPI() method does not require explicitly passing this value; it will check the environment for a variable\n",
    "# called 'MERAKI_DASHBOARD_API_KEY' on its own. In this case, API_KEY is shown simply as an reference to where that information is\n",
    "# stored.\n",
    "API_KEY = os.getenv('MERAKI_DASHBOARD_API_KEY')\n",
    "\n",
    "# Initialize the Dashboard connection.\n",
    "dashboard = meraki.DashboardAPI()"
   ]
  },
  {
   "cell_type": "markdown",
   "metadata": {},
   "source": [
    "Let's make a basic pretty print formatter, `printj()`. It will make reading the JSON later a lot easier, but won't be necessary in production scripts."
   ]
  },
  {
   "cell_type": "code",
   "execution_count": null,
   "metadata": {},
   "outputs": [],
   "source": [
    "def printj(ugly_json_object):\n",
    "    \n",
    "    # The json.dumps() method converts a JSON object into human-friendly formatted text\n",
    "    pretty_json_string = json.dumps(ugly_json_object, indent = 2, sort_keys = False)\n",
    "\n",
    "    return print(pretty_json_string)"
   ]
  },
  {
   "cell_type": "markdown",
   "metadata": {},
   "source": [
    "Most API calls require passing values for the organization ID and/or the network ID. In this second cell, we fetch a list of the organizations the API key can access, then pick the first org in the list, and the first network in that organization, to use for later operations. You could re-use this code presuming your API key only has access to a single organization, and that organization only contains a single network. Otherwise, you would want to review the organizations object declared and printed here to review its contents."
   ]
  },
  {
   "cell_type": "code",
   "execution_count": null,
   "metadata": {
    "tags": []
   },
   "outputs": [],
   "source": [
    "# Let's make it easier to call this data later\n",
    "# getOrganizations will return all orgs to which the supplied API key has access\n",
    "organizations = dashboard.organizations.getOrganizations()\n",
    "print('Organizations:')\n",
    "printj(organizations)\n",
    "\n",
    "# This example presumes we want to use the first organization as the scope for later operations. \n",
    "firstOrganizationId = organizations[0]['id']\n",
    "firstOrganizationName = organizations[0]['name']\n",
    "\n",
    "# Print a blank line for legibility before showing the firstOrganizationId\n",
    "print('')\n",
    "print(f'The firstOrganizationId is {firstOrganizationId}, and its name is {firstOrganizationName}.')"
   ]
  },
  {
   "cell_type": "markdown",
   "metadata": {},
   "source": [
    "This example presumes we want to use the first network of the chosen organization as the scope for later operations. It is fine to re-use presuming that your organization only contains a single network. Otherwise, you would want to review the organizations object declared and printed below to review its contents."
   ]
  },
  {
   "cell_type": "code",
   "execution_count": null,
   "metadata": {
    "tags": []
   },
   "outputs": [],
   "source": [
    "networks = dashboard.organizations.getOrganizationNetworks(organizationId=firstOrganizationId)\n",
    "print('Networks:')\n",
    "printj(networks)\n",
    "\n",
    "firstNetworkId = networks[0]['id']\n",
    "firstNetworkName = networks[0]['name']\n",
    "\n",
    "# Print a blank line for legibility before showing the firstNetworkId\n",
    "print('')\n",
    "\n",
    "print(f'The firstNetworkId is {firstNetworkId}, and its name is {firstNetworkName}.')"
   ]
  },
  {
   "cell_type": "markdown",
   "metadata": {},
   "source": [
    "Now that we've got the organization and network values figured out, we can get to the ask at hand:\n",
    "\n",
    "> Show me a list of all the offline switches in a network.\n",
    "\n",
    "The `getOrganizationDevicesStatuses` endpoint will return the devices (switches and otherwise) and their statuses, but it will not return their model numbers. To get that info, we use `getOrganizationDevices`. \n",
    "\n",
    "So first, we create the `devices` list. Then we create a list of those devices' statuses in `device_statuses`. Then, we use a [list comprehension](https://www.datacamp.com/community/tutorials/python-list-comprehension) to find all instances of switches in the `devices` list and put them in a new list, `devices_switches`.  "
   ]
  },
  {
   "cell_type": "code",
   "execution_count": null,
   "metadata": {
    "tags": []
   },
   "outputs": [],
   "source": [
    "devices = dashboard.organizations.getOrganizationDevices(organizationId=firstOrganizationId)\n",
    "devices_statuses = dashboard.organizations.getOrganizationDevicesStatuses(organizationId=firstOrganizationId)\n",
    "\n",
    "# Let's get the switch devices list\n",
    "devices_switches = [i for i in devices if 'MS' in i['model']]\n",
    "print('These are the switches:')\n",
    "printj(devices_switches)\n",
    "\n",
    "# Make a new list of all the serials from devices_switches\n",
    "devices_switches_serials = [i['serial'] for i in devices_switches]"
   ]
  },
  {
   "cell_type": "markdown",
   "metadata": {},
   "source": [
    "Great! Now we have a list of all the switches and their statuses `devices_switches`, as well a separate list of just their serials `devices_switches_serials`, but we only want the ones that are offline. So here, we'll use more list comprehensions to narrow down the list and create a new list with only the information we need."
   ]
  },
  {
   "cell_type": "code",
   "execution_count": null,
   "metadata": {
    "tags": []
   },
   "outputs": [],
   "source": [
    "# Now we can list out the statuses (and whatever metadata we need) for these switches\n",
    "print('We can list out the statuses (and whatever metadata we need) for these switches:')\n",
    "devices_statuses_switches = [{'serial': i['serial'], 'status':i['status']} for i in devices_statuses if i['serial'] in devices_switches_serials]\n",
    "print('Switch statuses are:')\n",
    "printj(devices_statuses_switches)\n",
    "\n",
    "# Print a blank line for legibility\n",
    "print('')\n",
    "\n",
    "# We can narrow it down to the ones that are offline\n",
    "print('We can narrow it down to the ones that are offline:')\n",
    "devices_statuses_switches_offline = [i for i in devices_statuses_switches if i['status'] != 'online']\n",
    "print('Offline switches are:')\n",
    "printj(devices_statuses_switches_offline)"
   ]
  },
  {
   "cell_type": "markdown",
   "metadata": {},
   "source": [
    "We started from the devices list, and the devices statuses list, and created a list of offline switches. Now let's look at when they last reported to the Dashboard."
   ]
  },
  {
   "cell_type": "code",
   "execution_count": null,
   "metadata": {
    "tags": []
   },
   "outputs": [],
   "source": [
    "# Another list comprehension!\n",
    "devices_last_reported_times = [{'serial': i['serial'], 'lastReportedAt': i['lastReportedAt']} for i in devices_statuses if i['serial'] in devices_switches_serials]\n",
    "\n",
    "printj(devices_last_reported_times)"
   ]
  },
  {
   "cell_type": "markdown",
   "metadata": {},
   "source": [
    "# Final steps\n",
    "\n",
    "Excellent, now we have a list of offline switches, and it's pretty easy to read. But what if we could use this in an Excel format? Well, there's a Python module for that, too. In this case, we're using [tablib](https://pypi.org/project/tablib/)."
   ]
  },
  {
   "cell_type": "code",
   "execution_count": null,
   "metadata": {
    "tags": []
   },
   "outputs": [],
   "source": [
    "# Let's convert that JSON-formatted data to a tabular dataset. You can copy/paste this into Excel, or write additional Python to create a new Excel file entirely!\n",
    "excel_formatted = tablib.import_set(json.dumps(devices_last_reported_times), format = 'json')\n",
    "\n",
    "# Let's see how it looks!\n",
    "print(excel_formatted)"
   ]
  },
  {
   "cell_type": "markdown",
   "metadata": {},
   "source": [
    "# Final thoughts\n",
    "\n",
    "And we're done! Hopefully you found this a useful demonstration of just a few things that are possible with Meraki's Python SDK. These additional resources may prove useful along the way.\n",
    "\n",
    "[Meraki Interactive API Docs](https://developer.cisco.com/meraki/api-v1/#!overview): The official (and interactive!) Meraki API and SDK documentation repository on DevNet.\n",
    "\n",
    "[VS Code](https://code.visualstudio.com/): An excellent code editor with full support for Python and Python notebooks.\n",
    "\n",
    "[Automate the Boring Stuff with Python](https://automatetheboringstuff.com/): An excellent learning resource that puts the real-world problem first, then teaches you the Pythonic solution along the way."
   ]
  },
  {
   "cell_type": "code",
   "execution_count": null,
   "metadata": {},
   "outputs": [],
   "source": []
  }
 ],
 "metadata": {
  "kernelspec": {
   "display_name": "Python 3",
   "language": "python",
   "name": "python3"
  },
  "language_info": {
   "codemirror_mode": {
    "name": "ipython",
    "version": 3
   },
   "file_extension": ".py",
   "mimetype": "text/x-python",
   "name": "python",
   "nbconvert_exporter": "python",
   "pygments_lexer": "ipython3",
   "version": "3.8.4"
  }
 },
 "nbformat": 4,
 "nbformat_minor": 4
}
